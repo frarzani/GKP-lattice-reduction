{
 "cells": [
  {
   "cell_type": "code",
   "execution_count": 2,
   "metadata": {},
   "outputs": [
    {
     "data": {
      "text/html": [
       "<style>.container { width:100% !important; }</style>"
      ],
      "text/plain": [
       "<IPython.core.display.HTML object>"
      ]
     },
     "metadata": {},
     "output_type": "display_data"
    }
   ],
   "source": [
    "# evaluate this cell to have jupyter use all the available horizontal screen space\n",
    "from IPython.core.display import display, HTML\n",
    "display(HTML(\"<style>.container { width:100% !important; }</style>\"))"
   ]
  },
  {
   "cell_type": "markdown",
   "metadata": {},
   "source": [
    "# Lattice completion for concatenated GKP codes"
   ]
  },
  {
   "cell_type": "markdown",
   "metadata": {},
   "source": [
    "The present notebook implements a procedure to find minimal sets of stabilizers of concatenated Gottesman-Kitaev-Preskill codes detailed in [arXiv:2109.14645](https://arxiv.org/abs/2109.14645).\n",
    "\n",
    "As an example, a (square) patch of rotated surface code concatenated with a square GKP base code is examined."
   ]
  },
  {
   "cell_type": "markdown",
   "metadata": {},
   "source": [
    "#### imports and general definitions"
   ]
  },
  {
   "cell_type": "code",
   "execution_count": 3,
   "metadata": {},
   "outputs": [],
   "source": [
    "import numpy as np\n",
    "from numpy import linalg as la\n",
    "from matplotlib import pyplot as plt\n",
    "\n",
    "# the two following imports are useful if the lattice membership test is to be carried out with integer arithmetics\n",
    "# the package abelian can be installed via pip3 install abelian\n",
    "# see https://buildmedia.readthedocs.org/media/pdf/abelian/latest/abelian.pdf for documentation\n",
    "\n",
    "from abelian import * # for Hermite normal form  and linear algebra over integers\n",
    "from sympy import Matrix, Integer\n"
   ]
  },
  {
   "cell_type": "code",
   "execution_count": 4,
   "metadata": {},
   "outputs": [],
   "source": [
    "def Jsym(n): # symplectic form for n modes\n",
    "    return np.block([[np.zeros((n,n)), np.eye(n)],[-np.eye(n),np.zeros((n,n))]])"
   ]
  },
  {
   "cell_type": "code",
   "execution_count": 5,
   "metadata": {},
   "outputs": [],
   "source": [
    "np.set_printoptions(precision=3, linewidth=1000) # for concise output without line wrapping"
   ]
  },
  {
   "cell_type": "markdown",
   "metadata": {},
   "source": [
    "# Square patch of rotated surface code "
   ]
  },
  {
   "cell_type": "markdown",
   "metadata": {},
   "source": [
    "## Code parameters"
   ]
  },
  {
   "cell_type": "code",
   "execution_count": 6,
   "metadata": {},
   "outputs": [],
   "source": [
    "L = 3 # surface code distance\n",
    "N = L**2 # number of physical modes\n",
    "J = Jsym(N) # symplectic form"
   ]
  },
  {
   "cell_type": "markdown",
   "metadata": {},
   "source": [
    "#### A useful code class"
   ]
  },
  {
   "cell_type": "markdown",
   "metadata": {},
   "source": [
    "In the following, we distinguish between lattice units and physical units. \n",
    "\n",
    "Lattice units are useful to make quantities like the symplectic Gram matrix integer. See article for details on conventions."
   ]
  },
  {
   "cell_type": "code",
   "execution_count": 7,
   "metadata": {},
   "outputs": [],
   "source": [
    "class surfaceCode(object):\n",
    "    '''\n",
    "    a container for surface code-related functions\n",
    "    \n",
    "    In particular, the code produces parity and lattice-generator matrices for a square patch of rotated surface code of size LxL (see article for details)\n",
    "    \n",
    "    HX and HZ are the X and Z parity-check matrices, which naturally correspond to lattice generators.\n",
    "    \n",
    "    If signed == True, then some of the qubit-level stabilizers are defined using adjoint of logical Paulis,\n",
    "    which has been shown to minimize error spreading between qubit-type stabilizers.\n",
    "    '''\n",
    "    \n",
    "    def __init__(self, l, signed=True): # initialize code of distance l\n",
    "        self.l = l\n",
    "        self.qposx = np.linspace(0, l-1, l) \n",
    "        self.qposy = np.linspace(0, l-1, l) \n",
    "        self.qubits = [(x,y) for x in self.qposx for y in self.qposy]\n",
    "        self.signed=signed\n",
    "        self.set_HX()\n",
    "        self.set_HZ()\n",
    "        #self.set_lattice_gens()\n",
    "        #self.set_logicals()\n",
    "    \n",
    "    def set_HX(self):\n",
    "        HX = []\n",
    "        for y in range(self.l-1): # first take care of \"bulk\" stabilizers\n",
    "            for x in range(self.l-1):\n",
    "                if (self.l*x+y)%2 == 0:    # <=> pivot elem of checkerboard (x%2==0) and (y%2 ==0) for odd l.  Qubit index I(x,y)=ly+x\n",
    "                    s = [0 for j in range(self.l**2)]\n",
    "                    s[self.l*y + x] = (-1)**(self.signed)\n",
    "                    s[self.l*y + x +1] = 1\n",
    "                    s[self.l*(y+1) + x] = 1\n",
    "                    s[self.l*(y+1) + x + 1] = (-1)**(self.signed)\n",
    "                    HX.append(s)\n",
    "                    \n",
    "        for x in range(1,self.l-1,2): # stabilizers on top edge\n",
    "            s = [0 for j in range(self.l**2)]\n",
    "            s[x] = 1\n",
    "            s[x + 1] = (-1)**(self.signed)\n",
    "            HX.append(s)\n",
    "            \n",
    "        for x in range(0,self.l-2,2): # stabilizers on bottom edge\n",
    "            s = [0 for j in range(self.l**2)]\n",
    "            s[self.l*(self.l-1)+x] = (-1)**(self.signed)\n",
    "            s[self.l*(self.l-1)+x + 1] = 1\n",
    "            HX.append(s)\n",
    "        \n",
    "        self.HX = np.array(HX)\n",
    "    \n",
    "    def set_HZ(self):\n",
    "        HZ = []\n",
    "        for y in range(self.l-1): # first take care of \"bulk\" stabilizers\n",
    "            for x in range(self.l-1):\n",
    "                if (self.l*x+y)%2 == 1: #<=> (x%2==1)^(y%2==1)\n",
    "                    s = [0 for j in range(self.l**2)]\n",
    "                    s[self.l*y + x] = 1\n",
    "                    s[self.l*y + x +1] = 1\n",
    "                    s[self.l*(y+1) + x] = 1\n",
    "                    s[self.l*(y+1) + x + 1] = 1\n",
    "                    HZ.append(s)\n",
    "\n",
    "        for y in range(0,self.l-2,2): # stabilizers on left edge\n",
    "            s = [0 for j in range(self.l**2)]\n",
    "            s[self.l*y] = 1\n",
    "            s[self.l*(y+1)] = 1\n",
    "            HZ.append(s)\n",
    "\n",
    "        for y in range(1,self.l-1,2): # stabilizers on right edge\n",
    "            s = [0 for j in range(self.l**2)]\n",
    "            s[self.l*y + self.l-1] = 1\n",
    "            s[self.l*(y+1) + self.l-1] = 1\n",
    "            HZ.append(s)\n",
    "\n",
    "        self.HZ = np.array(HZ)\n",
    "        \n",
    "        \n",
    "    def get_HX(self):\n",
    "        return self.HX\n",
    "\n",
    "    def get_HZ(self):\n",
    "        return self.HZ"
   ]
  },
  {
   "cell_type": "markdown",
   "metadata": {},
   "source": [
    "## Stabilizer generators"
   ]
  },
  {
   "cell_type": "markdown",
   "metadata": {},
   "source": [
    "### GKP generators"
   ]
  },
  {
   "cell_type": "code",
   "execution_count": 8,
   "metadata": {},
   "outputs": [],
   "source": [
    "MGKPt = 2*np.sqrt(np.pi)*np.eye(2*N) # lattice generator of mode-wise GKP code, in physical units\n",
    "MGKP = (1./np.sqrt(2*np.pi))*MGKPt # generator matrix in lattice unit --> the corresponding A matrix below is integer\n",
    "AGKP = MGKP@J@np.transpose(MGKP)"
   ]
  },
  {
   "cell_type": "markdown",
   "metadata": {},
   "source": [
    "### Surface code generators"
   ]
  },
  {
   "cell_type": "code",
   "execution_count": 9,
   "metadata": {},
   "outputs": [],
   "source": [
    "C = surfaceCode(L, signed=True) # instantiate auxiliary SC class\n",
    "HX = C.get_HX() # X type parity check matrix\n",
    "HZ = C.get_HZ() # Z type parity check matrix\n",
    "MSurft = np.sqrt(np.pi)*np.block([[HX,np.zeros(np.shape(HX))],[np.zeros(np.shape(HX)),HZ]]) # corresponding generator matrix\n",
    "MSurf = (1./np.sqrt(2*np.pi)) * MSurft # rescaled generator matrix"
   ]
  },
  {
   "cell_type": "code",
   "execution_count": 38,
   "metadata": {},
   "outputs": [
    {
     "name": "stdout",
     "output_type": "stream",
     "text": [
      "This is the zero matrix for a CSS code\n",
      " [[0 0 0 0]\n",
      " [0 0 0 0]\n",
      " [0 0 0 0]\n",
      " [0 0 0 0]]\n",
      "\n",
      "The symplectic Gram matrix A should always be integer (zero if using the signed surface code) \n",
      " A =  [[ 0.000e+00  0.000e+00  0.000e+00  0.000e+00 -2.237e-17 -2.237e-17  2.237e-17  0.000e+00]\n",
      " [ 0.000e+00  0.000e+00  0.000e+00  0.000e+00  2.237e-17  2.237e-17  0.000e+00 -2.237e-17]\n",
      " [ 0.000e+00  0.000e+00  0.000e+00  0.000e+00 -2.237e-17  0.000e+00  0.000e+00  0.000e+00]\n",
      " [ 0.000e+00  0.000e+00  0.000e+00  0.000e+00  0.000e+00  2.237e-17  0.000e+00  0.000e+00]\n",
      " [ 2.237e-17 -2.237e-17  2.237e-17  0.000e+00  0.000e+00  0.000e+00  0.000e+00  0.000e+00]\n",
      " [ 2.237e-17 -2.237e-17  0.000e+00 -2.237e-17  0.000e+00  0.000e+00  0.000e+00  0.000e+00]\n",
      " [-2.237e-17  0.000e+00  0.000e+00  0.000e+00  0.000e+00  0.000e+00  0.000e+00  0.000e+00]\n",
      " [ 0.000e+00  2.237e-17  0.000e+00  0.000e+00  0.000e+00  0.000e+00  0.000e+00  0.000e+00]]\n",
      "\n",
      "the determintant of A is also zero if using the signed surface code \n",
      " det(A) = 6.27343521900384e-134\n"
     ]
    }
   ],
   "source": [
    "print(f\"This is the zero matrix for a CSS code\\n {HX@(HZ.T)%2}\\n\") # check it's CSS\n",
    "A=MSurf@J@MSurf.T\n",
    "print(f\"The symplectic Gram matrix A should always be integer (zero if using the signed surface code) \\n A =  {A}\\n\")#check that A matrix is integer (or zero if signed == True in the surface code)\n",
    "print(f\"the determintant of A is also zero if using the signed surface code \\n det(A) = {la.det(A)}\")"
   ]
  },
  {
   "cell_type": "markdown",
   "metadata": {},
   "source": [
    "### (over-)Complete set of generators"
   ]
  },
  {
   "cell_type": "code",
   "execution_count": 22,
   "metadata": {},
   "outputs": [],
   "source": [
    "Mtot = np.vstack([MGKP,MSurf]) # an over-complete set of generators for the lattice of the concatenated code"
   ]
  },
  {
   "cell_type": "code",
   "execution_count": 26,
   "metadata": {},
   "outputs": [
    {
     "name": "stdout",
     "output_type": "stream",
     "text": [
      "scaled version of the over-complete generator, integer for the square GKP as base code \n",
      "[[ 2.  0.  0.  0.  0.  0.  0.  0.  0.  0.  0.  0.  0.  0.  0.  0.  0.  0.]\n",
      " [ 0.  2.  0.  0.  0.  0.  0.  0.  0.  0.  0.  0.  0.  0.  0.  0.  0.  0.]\n",
      " [ 0.  0.  2.  0.  0.  0.  0.  0.  0.  0.  0.  0.  0.  0.  0.  0.  0.  0.]\n",
      " [ 0.  0.  0.  2.  0.  0.  0.  0.  0.  0.  0.  0.  0.  0.  0.  0.  0.  0.]\n",
      " [ 0.  0.  0.  0.  2.  0.  0.  0.  0.  0.  0.  0.  0.  0.  0.  0.  0.  0.]\n",
      " [ 0.  0.  0.  0.  0.  2.  0.  0.  0.  0.  0.  0.  0.  0.  0.  0.  0.  0.]\n",
      " [ 0.  0.  0.  0.  0.  0.  2.  0.  0.  0.  0.  0.  0.  0.  0.  0.  0.  0.]\n",
      " [ 0.  0.  0.  0.  0.  0.  0.  2.  0.  0.  0.  0.  0.  0.  0.  0.  0.  0.]\n",
      " [ 0.  0.  0.  0.  0.  0.  0.  0.  2.  0.  0.  0.  0.  0.  0.  0.  0.  0.]\n",
      " [ 0.  0.  0.  0.  0.  0.  0.  0.  0.  2.  0.  0.  0.  0.  0.  0.  0.  0.]\n",
      " [ 0.  0.  0.  0.  0.  0.  0.  0.  0.  0.  2.  0.  0.  0.  0.  0.  0.  0.]\n",
      " [ 0.  0.  0.  0.  0.  0.  0.  0.  0.  0.  0.  2.  0.  0.  0.  0.  0.  0.]\n",
      " [ 0.  0.  0.  0.  0.  0.  0.  0.  0.  0.  0.  0.  2.  0.  0.  0.  0.  0.]\n",
      " [ 0.  0.  0.  0.  0.  0.  0.  0.  0.  0.  0.  0.  0.  2.  0.  0.  0.  0.]\n",
      " [ 0.  0.  0.  0.  0.  0.  0.  0.  0.  0.  0.  0.  0.  0.  2.  0.  0.  0.]\n",
      " [ 0.  0.  0.  0.  0.  0.  0.  0.  0.  0.  0.  0.  0.  0.  0.  2.  0.  0.]\n",
      " [ 0.  0.  0.  0.  0.  0.  0.  0.  0.  0.  0.  0.  0.  0.  0.  0.  2.  0.]\n",
      " [ 0.  0.  0.  0.  0.  0.  0.  0.  0.  0.  0.  0.  0.  0.  0.  0.  0.  2.]\n",
      " [-1.  1.  0.  1. -1.  0.  0.  0.  0.  0.  0.  0.  0.  0.  0.  0.  0.  0.]\n",
      " [ 0.  0.  0.  0. -1.  1.  0.  1. -1.  0.  0.  0.  0.  0.  0.  0.  0.  0.]\n",
      " [ 0.  1. -1.  0.  0.  0.  0.  0.  0.  0.  0.  0.  0.  0.  0.  0.  0.  0.]\n",
      " [ 0.  0.  0.  0.  0.  0. -1.  1.  0.  0.  0.  0.  0.  0.  0.  0.  0.  0.]\n",
      " [ 0.  0.  0.  0.  0.  0.  0.  0.  0.  0.  1.  1.  0.  1.  1.  0.  0.  0.]\n",
      " [ 0.  0.  0.  0.  0.  0.  0.  0.  0.  0.  0.  0.  1.  1.  0.  1.  1.  0.]\n",
      " [ 0.  0.  0.  0.  0.  0.  0.  0.  0.  1.  0.  0.  1.  0.  0.  0.  0.  0.]\n",
      " [ 0.  0.  0.  0.  0.  0.  0.  0.  0.  0.  0.  0.  0.  0.  1.  0.  0.  1.]]\n",
      "\n"
     ]
    }
   ],
   "source": [
    "print(f\"scaled version of the over-complete generator, integer for the square GKP as base code \\n{(np.sqrt(2)*Mtot)}\\n\") # sqrt(2) makes the matrix integer for the square code, which is useful if one wants to use the abelian module"
   ]
  },
  {
   "cell_type": "markdown",
   "metadata": {},
   "source": [
    "# Basis reduction algorithms"
   ]
  },
  {
   "cell_type": "markdown",
   "metadata": {},
   "source": [
    "## Lattice reduction through Hermite decomposition"
   ]
  },
  {
   "cell_type": "markdown",
   "metadata": {},
   "source": [
    "To appreciate the importance of the reduction algorithm in the article, we show first how things can go wrong using naive lattice reduction, e.g. through computing Hermite normal form."
   ]
  },
  {
   "cell_type": "code",
   "execution_count": 27,
   "metadata": {},
   "outputs": [],
   "source": [
    "Lmat = np.sqrt(2)*Mtot # make the matrix integer to work with lattice functions\n",
    "\n",
    "Lmat = Matrix(Lmat.astype(int)) # the abelian module works with sympy Matrix objects\n",
    "#print(Lmat)"
   ]
  },
  {
   "cell_type": "code",
   "execution_count": 28,
   "metadata": {},
   "outputs": [],
   "source": [
    "U,H = hermite_normal_form(Lmat.T) # U is unimodular, the columns of H correspond to the new nullifiers\n",
    "\n",
    "\n",
    "# let's convert back to numpy float arrays\n",
    "U = np.array(U).astype(np.float64)\n",
    "H = np.array(H).astype(np.float64)\n",
    "\n",
    "newMmat = (1/np.sqrt(2))*H.T # the new generator matrix, rows are the new independent generators"
   ]
  },
  {
   "cell_type": "code",
   "execution_count": 30,
   "metadata": {},
   "outputs": [
    {
     "name": "stdout",
     "output_type": "stream",
     "text": [
      "the new generator seems to still have 26 rows, as seen from the shape \n",
      "(26, 18)\n",
      "but if we remove all-zero rows we correctly get the shape \n",
      " (18, 18)\n"
     ]
    }
   ],
   "source": [
    "print(f\"the new generator seems to still have 26 rows, as seen from the shape \\n{newMmat.shape}\")\n",
    "print(f\"but if we remove all-zero rows we correctly get the shape \\n {(newMmat[~np.all(newMmat == 0, axis=1)]).shape}\")"
   ]
  },
  {
   "cell_type": "code",
   "execution_count": 57,
   "metadata": {},
   "outputs": [
    {
     "name": "stdout",
     "output_type": "stream",
     "text": [
      "If the Hermite decomposition worked, this should be 1:  1.0 \n",
      "\n",
      "If the Hermite decomposition worked, this should be the zero matrix: \n",
      "\n",
      " [[0. 0. 0. 0. 0. 0. 0. 0. 0. 0. 0. 0. 0. 0. 0. 0. 0. 0. 0. 0. 0. 0. 0. 0. 0. 0.]\n",
      " [0. 0. 0. 0. 0. 0. 0. 0. 0. 0. 0. 0. 0. 0. 0. 0. 0. 0. 0. 0. 0. 0. 0. 0. 0. 0.]\n",
      " [0. 0. 0. 0. 0. 0. 0. 0. 0. 0. 0. 0. 0. 0. 0. 0. 0. 0. 0. 0. 0. 0. 0. 0. 0. 0.]\n",
      " [0. 0. 0. 0. 0. 0. 0. 0. 0. 0. 0. 0. 0. 0. 0. 0. 0. 0. 0. 0. 0. 0. 0. 0. 0. 0.]\n",
      " [0. 0. 0. 0. 0. 0. 0. 0. 0. 0. 0. 0. 0. 0. 0. 0. 0. 0. 0. 0. 0. 0. 0. 0. 0. 0.]\n",
      " [0. 0. 0. 0. 0. 0. 0. 0. 0. 0. 0. 0. 0. 0. 0. 0. 0. 0. 0. 0. 0. 0. 0. 0. 0. 0.]\n",
      " [0. 0. 0. 0. 0. 0. 0. 0. 0. 0. 0. 0. 0. 0. 0. 0. 0. 0. 0. 0. 0. 0. 0. 0. 0. 0.]\n",
      " [0. 0. 0. 0. 0. 0. 0. 0. 0. 0. 0. 0. 0. 0. 0. 0. 0. 0. 0. 0. 0. 0. 0. 0. 0. 0.]\n",
      " [0. 0. 0. 0. 0. 0. 0. 0. 0. 0. 0. 0. 0. 0. 0. 0. 0. 0. 0. 0. 0. 0. 0. 0. 0. 0.]\n",
      " [0. 0. 0. 0. 0. 0. 0. 0. 0. 0. 0. 0. 0. 0. 0. 0. 0. 0. 0. 0. 0. 0. 0. 0. 0. 0.]\n",
      " [0. 0. 0. 0. 0. 0. 0. 0. 0. 0. 0. 0. 0. 0. 0. 0. 0. 0. 0. 0. 0. 0. 0. 0. 0. 0.]\n",
      " [0. 0. 0. 0. 0. 0. 0. 0. 0. 0. 0. 0. 0. 0. 0. 0. 0. 0. 0. 0. 0. 0. 0. 0. 0. 0.]\n",
      " [0. 0. 0. 0. 0. 0. 0. 0. 0. 0. 0. 0. 0. 0. 0. 0. 0. 0. 0. 0. 0. 0. 0. 0. 0. 0.]\n",
      " [0. 0. 0. 0. 0. 0. 0. 0. 0. 0. 0. 0. 0. 0. 0. 0. 0. 0. 0. 0. 0. 0. 0. 0. 0. 0.]\n",
      " [0. 0. 0. 0. 0. 0. 0. 0. 0. 0. 0. 0. 0. 0. 0. 0. 0. 0. 0. 0. 0. 0. 0. 0. 0. 0.]\n",
      " [0. 0. 0. 0. 0. 0. 0. 0. 0. 0. 0. 0. 0. 0. 0. 0. 0. 0. 0. 0. 0. 0. 0. 0. 0. 0.]\n",
      " [0. 0. 0. 0. 0. 0. 0. 0. 0. 0. 0. 0. 0. 0. 0. 0. 0. 0. 0. 0. 0. 0. 0. 0. 0. 0.]\n",
      " [0. 0. 0. 0. 0. 0. 0. 0. 0. 0. 0. 0. 0. 0. 0. 0. 0. 0. 0. 0. 0. 0. 0. 0. 0. 0.]] \n",
      "\n",
      "The determinant of the new generator should give the dimension of the stabilized subspace: 1.9999999999999976\n"
     ]
    }
   ],
   "source": [
    "#print(U,\"\\n\")\n",
    "print('If the Hermite decomposition worked, this should be 1: ',la.det(U),\"\\n\") # check that U is unimodular\n",
    "#print(H, \"\\n\")\n",
    "print('If the Hermite decomposition worked, this should be the zero matrix: \\n\\n', np.array(Lmat.T).astype(np.float64)@U-H,\"\\n\") # check the Hermite decomposition\n",
    "\n",
    "\n",
    "#print(newMmat[:2*N],\"\\n\")\n",
    "gen = newMmat[~np.all(newMmat == 0, axis=1)] # retain only non zero rows\n",
    "#print(gen) #only pick non-zero rows\n",
    "\n",
    "print(\"The determinant of the new generator should give the dimension of the stabilized subspace:\",la.det(gen))"
   ]
  },
  {
   "cell_type": "code",
   "execution_count": 41,
   "metadata": {},
   "outputs": [],
   "source": [
    "A=gen@J@gen.T # the symplectic gram matrix\n",
    "A_Inv=la.inv(A) # and its inverse"
   ]
  },
  {
   "cell_type": "markdown",
   "metadata": {},
   "source": [
    "### Properties of the new stabilizers"
   ]
  },
  {
   "cell_type": "markdown",
   "metadata": {},
   "source": [
    "Inspecting the new generator, we see that the lattice reduction respects the CSS structure of the code.  \n",
    "\n",
    "What can we say about the new stabilizer operators? \n",
    "\n",
    "The first question is about their weight, that is on how many modes do they act non trivially? \n",
    "\n",
    "This corresponds to the number of non zero entries in each row of the new generator matrix newMmat. This is also equal to the number of controlled operations required for each stabilizer. The sum of the weights across all stabilizers gives the total number of controlled gates required in a single round of error correction."
   ]
  },
  {
   "cell_type": "code",
   "execution_count": 42,
   "metadata": {},
   "outputs": [],
   "source": [
    "#gen = newMmat[:2*N]\n",
    "weights = [np.count_nonzero(r) for r in gen]\n",
    "oldWeights = [np.count_nonzero(r) for r in Mtot]\n",
    "sortedWeights = sorted(weights)\n",
    "sortedOldWeights = sorted(oldWeights)"
   ]
  },
  {
   "cell_type": "code",
   "execution_count": 44,
   "metadata": {},
   "outputs": [
    {
     "name": "stdout",
     "output_type": "stream",
     "text": [
      "[1, 1, 1, 1, 1, 1, 1, 1, 1, 1, 2, 2, 2, 4, 4, 4, 4, 6]\n",
      "[1, 1, 1, 1, 1, 1, 1, 1, 1, 1, 1, 1, 1, 1, 1, 1, 1, 1, 2, 2, 2, 2, 4, 4, 4, 4]\n"
     ]
    }
   ],
   "source": [
    "print(sortedWeights)\n",
    "print(sortedOldWeights)"
   ]
  },
  {
   "cell_type": "markdown",
   "metadata": {},
   "source": [
    "We see that there are fewer stabilizers but they generally have higher weight. \n",
    "\n",
    "This is shown in the following plot as well."
   ]
  },
  {
   "cell_type": "code",
   "execution_count": 45,
   "metadata": {},
   "outputs": [
    {
     "name": "stdout",
     "output_type": "stream",
     "text": [
      "number of old stabilizers:  26 ; number of controlled ops:  42\n",
      "number of new stabilizers:  18 ; number of controlled ops:  38\n"
     ]
    },
    {
     "data": {
      "image/png": "[encoded data removed]",
      "text/plain": [
       "<Figure size 432x288 with 1 Axes>"
      ]
     },
     "metadata": {
      "needs_background": "light"
     },
     "output_type": "display_data"
    }
   ],
   "source": [
    "print(\"number of old stabilizers: \",np.size(oldWeights),\"; number of controlled ops: \", np.sum(oldWeights))\n",
    "print(\"number of new stabilizers: \",np.size(weights),\"; number of controlled ops: \", np.sum(weights))\n",
    "\n",
    "plt.plot([j for j in range(len(sortedWeights))],sortedWeights,\"o-\")\n",
    "plt.plot([j for j in range(len(sortedOldWeights))],sortedOldWeights,\"o-\")\n",
    "\n",
    "plt.xlabel('stabilizer index')\n",
    "plt.ylabel('weight')\n",
    "\n",
    "plt.show()"
   ]
  },
  {
   "cell_type": "markdown",
   "metadata": {},
   "source": [
    "## Adding GKP generators one at a time"
   ]
  },
  {
   "cell_type": "markdown",
   "metadata": {},
   "source": [
    "The code below implements the procedure in the article. The advantage is that this preserves the weight of the qubit-level code.\n",
    "\n",
    "There are two options for the membership test: either the membership to the lattice is computed up to numerical precision using floating point arithmetics or the module abelian is used to search a solution of Mx = v with x integer and x a candidate lattice points.\n",
    "\n",
    "The latter option requires having installed abelian and Simpy. Furthermore, the units have to be chosen such that the generator matrix is integer.\n",
    "\n",
    "Which membership test is used is governed by the variable intAr below.\n",
    "\n",
    "**WARNING** in this example code the test based on integer arithmetics is only implemented for the square GKP code as base code."
   ]
  },
  {
   "cell_type": "code",
   "execution_count": 49,
   "metadata": {},
   "outputs": [],
   "source": [
    "intAr = True"
   ]
  },
  {
   "cell_type": "code",
   "execution_count": 50,
   "metadata": {},
   "outputs": [],
   "source": [
    "def is_in_lattice_intAr(v,M):\n",
    "    '''\n",
    "    returns True if v is in the integer span of columns of M (using integer arithmetics from the abelian package)\n",
    "    \n",
    "    If Mx == v then x is also returned, otherwise the second returned value is None\n",
    "    '''\n",
    "    \n",
    "    sol = solve(Matrix(M),Matrix(v.astype(int)) )\n",
    "    \n",
    "    if (sol != None): \n",
    "        return True, np.array(sol.T).astype(np.float64)[0]\n",
    "    return False, sol\n",
    "\n",
    "def is_in_lattice(v,M):\n",
    "    '''\n",
    "    returns True if v is in the integer span of columns of M (up to numerical precision)\n",
    "    \n",
    "    If Mx == v then x is also returned, otherwise the second returned value is None\n",
    "    '''\n",
    "    \n",
    "    sol = la.lstsq(M, v, rcond = None)[0] # finds best approximation to v within the subspace spanned by columns of M using least squares\n",
    "    ans = False\n",
    "\n",
    "    if np.allclose(M@sol, v) and np.allclose(sol, np.round(sol)): # if the solution x to Mx = v is integer (within numerical precision)\n",
    "        ans = True # then v is in the lattice\n",
    "    return ans, sol\n",
    "\n",
    "def CC_lattice_completion(Mqubit,Mbase, verbose = False, check = False):\n",
    "    '''\n",
    "    Completes the lattice generator of a concatenated code given qubit code and mode-wise GKP lattice generator.\n",
    "    Starting from the lattice generated by qubit code stabilizers, \n",
    "    checks if each GKP stabilizer is contained in the lattice and if not, adds it to the lattice generators. \n",
    "    \n",
    "    input:\n",
    "        Mqubit: (N-k)x2N matrix, lattice generator for qubit code with k logical qubits over N phyisical qubits\n",
    "        Mbase: 2Nx2N matrix, the lattice generator matrix for encoding a GKP qubit on each mode\n",
    "        verbose: bool, if True prints additional messages, default False\n",
    "        check: bool, if True there is an additional check on linear dependency of single-mode stabilizers\n",
    "    output:\n",
    "        Mtot: 2Nx2N matrix, rows are a (possibly overcomplete) set of lattice generators for the GKP surface code\n",
    "        \n",
    "        \n",
    "    CONVENTIONS: \n",
    "        each row of the input qubit generator corresponds to Pauli strings: \n",
    "            entries are in {0,1,-1}, first N entries correspond to X, last N entries to Z. \n",
    "        Entries are exponent of the operators. \n",
    "        Example: \n",
    "            for 3 qubits with first stabilizer XIZ^\\dagger we have M_1 = (1,0,0,0,0,-1).\n",
    "    '''\n",
    "    \n",
    "    global intAr\n",
    "    \n",
    "    if intAr:\n",
    "        Ltot = np.sqrt(2)*Mqubit # the total generator is grown from the qubit code, rows correspond to stabilizers\n",
    "        LGKPleft = np.sqrt(2)*Mbase # generator of base code for all modes\n",
    "    else:\n",
    "        Ltot = Mqubit # the total generator is grown from the qubit code, rows correspond to stabilizers\n",
    "        LGKPleft = Mbase # generator of base code for all modes\n",
    "    \n",
    "\n",
    "    #print('shape Ltot ',np.shape(Ltot))\n",
    "    #print('shape LGKPleft ', np.shape(LGKPleft))\n",
    "\n",
    "    while len(LGKPleft)>0: # if there are single-mode GKP generators left\n",
    "        if verbose:\n",
    "            print(\"{} GKP generators left\".format(LGKPleft.shape[0]))\n",
    "        \n",
    "        if intAr:\n",
    "            member, sol = is_in_lattice_intAr(LGKPleft[0],Ltot.T) # check if the vector is an integer lin comb of the generators already found\n",
    "        else:\n",
    "            member, sol = is_in_lattice(LGKPleft[0],Ltot.T) # check if the vector is an integer lin comb of the generators already found\n",
    "        if member: # if the first lies on the lattice\n",
    "            if verbose:\n",
    "                print(\"found a GKP generator already in the lattice\")\n",
    "            if check:\n",
    "                diff = sol@Ltot - LGKPleft[0]\n",
    "                mismatch = la.norm(diff)\n",
    "                if verbose:\n",
    "                    print(\"solution verified, norm mismatch: \", mismatch)\n",
    "                    print(\"the solution to the linear system is \", sol) # check that the solution is indeed integer\n",
    "                if np.abs(mismatch) > 10**(-8):\n",
    "                    print('linear dependency could not be verified, the norm mismatch is: {}; exiting'.format(mismatch))\n",
    "                    return -1\n",
    "        else:\n",
    "            Ltot = np.vstack((Ltot,LGKPleft[0])) # otherwise add it to the generators\n",
    "            \n",
    "        LGKPleft = np.delete(LGKPleft,0,0) # remove the current GKP stabilizer from the list of those to check\n",
    "        \n",
    "    if verbose:\n",
    "        print(\"\\n reduction completed successfully, returning {} independent generators\".format(Ltot.shape[1]))\n",
    "    \n",
    "    if intAr:\n",
    "        return (1/np.sqrt(2))*Ltot\n",
    "    \n",
    "    return Ltot \n",
    "    "
   ]
  },
  {
   "cell_type": "code",
   "execution_count": 48,
   "metadata": {},
   "outputs": [
    {
     "name": "stdout",
     "output_type": "stream",
     "text": [
      "18 GKP generators left\n",
      "17 GKP generators left\n",
      "16 GKP generators left\n",
      "found a GKP generator already in the lattice\n",
      "solution verified, norm mismatch:  1.5565144948272768e-15\n",
      "the solution to the linear system is  [ 1.227e-16  2.906e-16 -2.000e+00 -8.512e-16 -2.579e-17  6.779e-17  2.981e-17  9.148e-31  3.226e-16  1.000e+00]\n",
      "15 GKP generators left\n",
      "14 GKP generators left\n",
      "found a GKP generator already in the lattice\n",
      "solution verified, norm mismatch:  1.3929636468545002e-15\n",
      "the solution to the linear system is  [-2.000e+00 -6.672e-16 -2.521e-16  3.195e-16 -8.670e-17 -5.069e-17 -6.766e-17  2.089e-16 -1.000e+00  1.000e+00  1.000e+00]\n",
      "13 GKP generators left\n",
      "12 GKP generators left\n",
      "11 GKP generators left\n",
      "found a GKP generator already in the lattice\n",
      "solution verified, norm mismatch:  1.461088621293603e-15\n",
      "the solution to the linear system is  [ 1.049e-16 -8.567e-16  1.074e-16  2.000e+00  0.000e+00  0.000e+00  0.000e+00 -1.616e-17  3.111e-16 -3.698e-16 -4.486e-16 -1.439e-17  1.000e+00]\n",
      "10 GKP generators left\n",
      "found a GKP generator already in the lattice\n",
      "solution verified, norm mismatch:  1.3533747454297111e-15\n",
      "the solution to the linear system is  [ 2.000e+00 -2.000e+00 -6.907e-16  2.000e+00  0.000e+00  0.000e+00  0.000e+00 -1.910e-17  1.000e+00 -1.000e+00 -1.000e+00  1.000e+00  1.000e+00]\n",
      "9 GKP generators left\n",
      "8 GKP generators left\n",
      "7 GKP generators left\n",
      "6 GKP generators left\n",
      "found a GKP generator already in the lattice\n",
      "solution verified, norm mismatch:  2.2081658592180086e-15\n",
      "the solution to the linear system is  [-4.088e-17  2.865e-16  1.901e-16 -6.246e-16  9.842e-16 -6.781e-16  2.000e+00 -2.090e-16 -1.007e-16 -1.914e-16 -6.584e-17  2.727e-16  6.718e-16 -1.000e+00 -1.227e-15 -3.639e-16]\n",
      "5 GKP generators left\n",
      "4 GKP generators left\n",
      "found a GKP generator already in the lattice\n",
      "solution verified, norm mismatch:  2.3421973048753144e-15\n",
      "the solution to the linear system is  [ 1.072e-16 -5.017e-16  7.551e-17 -7.868e-17  2.000e+00 -3.886e-16 -6.661e-16  1.193e-15 -1.630e-16  1.649e-16 -2.811e-16 -9.796e-17 -2.026e-16  5.113e-16 -1.000e+00 -1.000e+00 -1.000e+00]\n",
      "3 GKP generators left\n",
      "2 GKP generators left\n",
      "found a GKP generator already in the lattice\n",
      "solution verified, norm mismatch:  2.876064887189249e-15\n",
      "the solution to the linear system is  [ 2.784e-18 -2.027e-16  2.631e-16  5.607e-16 -1.293e-15  2.000e+00 -2.000e+00  1.014e-15  3.712e-16  4.056e-17  2.949e-16 -5.812e-16 -9.669e-16  1.000e+00  3.585e-16  4.162e-16 -1.000e+00 -1.000e+00]\n",
      "1 GKP generators left\n",
      "found a GKP generator already in the lattice\n",
      "solution verified, norm mismatch:  3.4588290568822908e-15\n",
      "the solution to the linear system is  [-2.990e-17 -4.555e-17 -5.905e-16  1.569e-15 -2.000e+00 -2.220e-16  5.551e-16  2.000e+00 -2.639e-16  2.941e-16 -1.802e-16 -5.182e-16 -1.304e-15  1.862e-16  1.000e+00  1.000e+00  1.000e+00  4.760e-17]\n",
      "\n",
      " reduction completed successfully, returning 18 independent generators\n"
     ]
    }
   ],
   "source": [
    "newMmat = CC_lattice_completion(MSurf,MGKP, check = True, verbose = True)"
   ]
  },
  {
   "cell_type": "code",
   "execution_count": 54,
   "metadata": {},
   "outputs": [
    {
     "name": "stdout",
     "output_type": "stream",
     "text": [
      "the new generator matrix (rows correspond to new stabilizers)\n",
      " [[-0.707  0.707  0.     0.707 -0.707  0.     0.     0.     0.     0.     0.     0.     0.     0.     0.     0.     0.     0.   ]\n",
      " [ 0.     0.     0.     0.    -0.707  0.707  0.     0.707 -0.707  0.     0.     0.     0.     0.     0.     0.     0.     0.   ]\n",
      " [ 0.     0.707 -0.707  0.     0.     0.     0.     0.     0.     0.     0.     0.     0.     0.     0.     0.     0.     0.   ]\n",
      " [ 0.     0.     0.     0.     0.     0.    -0.707  0.707  0.     0.     0.     0.     0.     0.     0.     0.     0.     0.   ]\n",
      " [ 0.     0.     0.     0.     0.     0.     0.     0.     0.     0.     0.707  0.707  0.     0.707  0.707  0.     0.     0.   ]\n",
      " [ 0.     0.     0.     0.     0.     0.     0.     0.     0.     0.     0.     0.     0.707  0.707  0.     0.707  0.707  0.   ]\n",
      " [ 0.     0.     0.     0.     0.     0.     0.     0.     0.     0.707  0.     0.     0.707  0.     0.     0.     0.     0.   ]\n",
      " [ 0.     0.     0.     0.     0.     0.     0.     0.     0.     0.     0.     0.     0.     0.     0.707  0.     0.     0.707]\n",
      " [ 1.414  0.     0.     0.     0.     0.     0.     0.     0.     0.     0.     0.     0.     0.     0.     0.     0.     0.   ]\n",
      " [ 0.     1.414  0.     0.     0.     0.     0.     0.     0.     0.     0.     0.     0.     0.     0.     0.     0.     0.   ]\n",
      " [ 0.     0.     0.     1.414  0.     0.     0.     0.     0.     0.     0.     0.     0.     0.     0.     0.     0.     0.   ]\n",
      " [ 0.     0.     0.     0.     0.     1.414  0.     0.     0.     0.     0.     0.     0.     0.     0.     0.     0.     0.   ]\n",
      " [ 0.     0.     0.     0.     0.     0.     1.414  0.     0.     0.     0.     0.     0.     0.     0.     0.     0.     0.   ]\n",
      " [ 0.     0.     0.     0.     0.     0.     0.     0.     0.     1.414  0.     0.     0.     0.     0.     0.     0.     0.   ]\n",
      " [ 0.     0.     0.     0.     0.     0.     0.     0.     0.     0.     1.414  0.     0.     0.     0.     0.     0.     0.   ]\n",
      " [ 0.     0.     0.     0.     0.     0.     0.     0.     0.     0.     0.     1.414  0.     0.     0.     0.     0.     0.   ]\n",
      " [ 0.     0.     0.     0.     0.     0.     0.     0.     0.     0.     0.     0.     0.     1.414  0.     0.     0.     0.   ]\n",
      " [ 0.     0.     0.     0.     0.     0.     0.     0.     0.     0.     0.     0.     0.     0.     0.     1.414  0.     0.   ]]\n",
      "\n",
      "shape before removing all-zero rows  (18, 18)\n",
      "shape AFTER removing all-zero rows (just in case)  (18, 18)\n",
      "check encoded dimension det(A) =  1.9999999999999976\n"
     ]
    }
   ],
   "source": [
    "print(f\"the new generator matrix (rows correspond to new stabilizers)\\n {newMmat}\\n\")\n",
    "print(\"shape before removing all-zero rows \",np.shape(newMmat))\n",
    "gen = newMmat[~np.all(newMmat == 0, axis=1)] # retain only nonzero rows, should be all of them\n",
    "print(\"shape AFTER removing all-zero rows (just in case) \",np.shape(newMmat))\n",
    "weights = [np.count_nonzero(r) for r in gen]\n",
    "oldWeights = [np.count_nonzero(r) for r in Mtot]\n",
    "sortedWeights = sorted(weights)\n",
    "sortedOldWeights = sorted(oldWeights)\n",
    "print(\"check encoded dimension det(A) = \", la.det(gen))"
   ]
  },
  {
   "cell_type": "code",
   "execution_count": 55,
   "metadata": {},
   "outputs": [
    {
     "name": "stdout",
     "output_type": "stream",
     "text": [
      "number of old stabilizers:  26  number of controlled ops:  42\n",
      "number of new stabilizers:  18  number of controlled ops:  34\n"
     ]
    },
    {
     "data": {
      "image/png": "[encoded data removed]",
      "text/plain": [
       "<Figure size 432x288 with 1 Axes>"
      ]
     },
     "metadata": {
      "needs_background": "light"
     },
     "output_type": "display_data"
    }
   ],
   "source": [
    "print(\"number of old stabilizers: \",np.size(oldWeights),\" number of controlled ops: \", np.sum(oldWeights))\n",
    "print(\"number of new stabilizers: \",np.size(weights),\" number of controlled ops: \", np.sum(weights))\n",
    "\n",
    "plt.plot([j for j in range(len(sortedWeights))],sortedWeights,\"o-\")\n",
    "plt.plot([j for j in range(len(sortedOldWeights))],sortedOldWeights,\"o-\")\n",
    "plt.xlabel('stabilizer index')\n",
    "plt.ylabel('stabilizer weight')\n",
    "plt.show()"
   ]
  }
 ],
 "metadata": {
  "kernelspec": {
   "display_name": "Python 3",
   "language": "python",
   "name": "python3"
  },
  "language_info": {
   "codemirror_mode": {
    "name": "ipython",
    "version": 3
   },
   "file_extension": ".py",
   "mimetype": "text/x-python",
   "name": "python",
   "nbconvert_exporter": "python",
   "pygments_lexer": "ipython3",
   "version": "3.8.5"
  }
 },
 "nbformat": 4,
 "nbformat_minor": 4
}
